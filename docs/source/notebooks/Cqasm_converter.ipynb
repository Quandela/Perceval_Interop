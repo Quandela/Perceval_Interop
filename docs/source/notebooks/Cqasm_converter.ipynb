{
 "cells": [
  {
   "cell_type": "markdown",
   "id": "606547321bc52b8c",
   "metadata": {},
   "source": [
    "# cQASM converter"
   ]
  },
  {
   "cell_type": "markdown",
   "id": "b65ae950d965af5c",
   "metadata": {},
   "source": [
    "As usual, we start by importing the needed libraries. Note that this notebook requires the installation of cQASM (which can be easily done with `pip install libqasm`). This repository can also be installed with the command: `pip install .[CQASM-bridge]` to automatically install cQASM."
   ]
  },
  {
   "cell_type": "code",
   "execution_count": 1,
   "id": "f28da1a524c48c8b",
   "metadata": {},
   "outputs": [],
   "source": [
    "from perceval_interop import CQASMConverter\n",
    "from perceval import pdisplay"
   ]
  },
  {
   "cell_type": "markdown",
   "id": "7de0b29a4bd45702",
   "metadata": {},
   "source": [
    "Then we write our cQASM program."
   ]
  },
  {
   "cell_type": "code",
   "execution_count": 2,
   "id": "8f72c9eb15aed3f4",
   "metadata": {},
   "outputs": [],
   "source": [
    "cqasm_program = \"\"\"\n",
    "version 3\n",
    "qubit[2] q\n",
    "H q[0]\n",
    "CNOT q[0], q[1]\n",
    "\"\"\""
   ]
  },
  {
   "cell_type": "markdown",
   "id": "fff43a202cf3530f",
   "metadata": {},
   "source": [
    "We convert it with the Perceval CQASMConverter."
   ]
  },
  {
   "cell_type": "code",
   "execution_count": 3,
   "id": "47da8c1e2250ed58",
   "metadata": {},
   "outputs": [],
   "source": [
    "perceval_processor = CQASMConverter().convert(cqasm_program, use_postselection=False)"
   ]
  },
  {
   "cell_type": "markdown",
   "id": "e6de7c73b2bc4340",
   "metadata": {},
   "source": [
    "The output probabilities can now be computed using Perceval."
   ]
  },
  {
   "cell_type": "code",
   "execution_count": 4,
   "id": "6f2490487920f8d4",
   "metadata": {},
   "outputs": [
    {
     "name": "stdout",
     "output_type": "stream",
     "text": [
      "results: {\n",
      "\t|1,0,1,0>: 0.5000000000000002\n",
      "\t|0,1,0,1>: 0.4999999999999999\n",
      "}\n"
     ]
    },
    {
     "data": {
      "image/svg+xml": [
       "<?xml version=\"1.0\" encoding=\"UTF-8\"?>\n",
       "<svg xmlns=\"http://www.w3.org/2000/svg\" xmlns:xlink=\"http://www.w3.org/1999/xlink\"\n",
       "     width=\"446.875\" height=\"406.25\" viewBox=\"-62.5 0 357.5 325.0\">\n",
       "<defs>\n",
       "</defs>\n",
       "<path d=\"M10,25.0 L25,25.0\" stroke-width=\"3\" stroke=\"darkred\" stroke-linejoin=\"miter\" fill=\"none\" />\n",
       "<path d=\"M10,75.0 L25,75.0\" stroke-width=\"3\" stroke=\"darkred\" stroke-linejoin=\"miter\" fill=\"none\" />\n",
       "<path d=\"M10,125.0 L25,125.0\" stroke-width=\"3\" stroke=\"darkred\" stroke-linejoin=\"miter\" fill=\"none\" />\n",
       "<path d=\"M10,175.0 L25,175.0\" stroke-width=\"3\" stroke=\"darkred\" stroke-linejoin=\"miter\" fill=\"none\" />\n",
       "<path d=\"M25,25 L125,25\" stroke=\"darkred\" stroke-width=\"3\" fill=\"none\" />\n",
       "<path d=\"M25,75 L125,75\" stroke=\"darkred\" stroke-width=\"3\" fill=\"none\" />\n",
       "<path d=\"M27.5,2.5 L122.5,2.5 L122.5,97.5 L27.5,97.5 Z\" stroke=\"darkred\" fill=\"lightpink\" stroke-linejoin=\"miter\" />\n",
       "<text x=\"35\" y=\"16\" font-size=\"8\" text-anchor=\"start\" font-weight=\"bold\">H</text>\n",
       "<path d=\"M25,125.0 L125,125.0\" stroke=\"darkred\" stroke-width=\"3\" fill=\"none\" />\n",
       "<path d=\"M25,175.0 L125,175.0\" stroke=\"darkred\" stroke-width=\"3\" fill=\"none\" />\n",
       "<path d=\"M125,25 L225,25\" stroke=\"darkred\" stroke-width=\"3\" fill=\"none\" />\n",
       "<path d=\"M125,75 L225,75\" stroke=\"darkred\" stroke-width=\"3\" fill=\"none\" />\n",
       "<path d=\"M125,125 L225,125\" stroke=\"darkred\" stroke-width=\"3\" fill=\"none\" />\n",
       "<path d=\"M125,175 L225,175\" stroke=\"darkred\" stroke-width=\"3\" fill=\"none\" />\n",
       "<path d=\"M125,225 L225,225\" stroke=\"darkred\" stroke-width=\"3\" fill=\"none\" />\n",
       "<path d=\"M125,275 L225,275\" stroke=\"darkred\" stroke-width=\"3\" fill=\"none\" />\n",
       "<path d=\"M127.5,2.5 L222.5,2.5 L222.5,297.5 L127.5,297.5 Z\" stroke=\"darkred\" fill=\"lightpink\" stroke-linejoin=\"miter\" />\n",
       "<text x=\"135\" y=\"16\" font-size=\"9\" text-anchor=\"start\" font-weight=\"bold\">HERALDED CNOT</text>\n",
       "<path d=\"M225,25.0 L240,25.0\" stroke-width=\"3\" stroke=\"darkred\" stroke-linejoin=\"miter\" fill=\"none\" />\n",
       "<path d=\"M225,75.0 L240,75.0\" stroke-width=\"3\" stroke=\"darkred\" stroke-linejoin=\"miter\" fill=\"none\" />\n",
       "<path d=\"M225,125.0 L240,125.0\" stroke-width=\"3\" stroke=\"darkred\" stroke-linejoin=\"miter\" fill=\"none\" />\n",
       "<path d=\"M225,175.0 L240,175.0\" stroke-width=\"3\" stroke=\"darkred\" stroke-linejoin=\"miter\" fill=\"none\" />\n",
       "<path d=\"M-12.5,25 L10.5,25\" stroke=\"darkred\" stroke-width=\"3\" fill=\"none\" />\n",
       "<path d=\"M-30.5,25 C-30.5,25,-30.5,15,-20.5,15 L-12.5,15 L-12.5,35 L-20.5,35 C-30.5,35,-30.5,25,-30.5,25 L-30.5,25\" stroke-width=\"1\" stroke=\"black\" stroke-linejoin=\"miter\" fill=\"white\" />\n",
       "<text x=\"-20.5\" y=\"28\" font-size=\"7\" text-anchor=\"middle\">1</text>\n",
       "<path d=\"M-12.5,75 L10.5,75\" stroke=\"darkred\" stroke-width=\"3\" fill=\"none\" />\n",
       "<path d=\"M-30.5,75 C-30.5,75,-30.5,65,-20.5,65 L-12.5,65 L-12.5,85 L-20.5,85 C-30.5,85,-30.5,75,-30.5,75 L-30.5,75\" stroke-width=\"1\" stroke=\"black\" stroke-linejoin=\"miter\" fill=\"white\" />\n",
       "<text x=\"-20.5\" y=\"78\" font-size=\"7\" text-anchor=\"middle\">0</text>\n",
       "<path d=\"M-12.5,125 L10.5,125\" stroke=\"darkred\" stroke-width=\"3\" fill=\"none\" />\n",
       "<path d=\"M-30.5,125 C-30.5,125,-30.5,115,-20.5,115 L-12.5,115 L-12.5,135 L-20.5,135 C-30.5,135,-30.5,125,-30.5,125 L-30.5,125\" stroke-width=\"1\" stroke=\"black\" stroke-linejoin=\"miter\" fill=\"white\" />\n",
       "<text x=\"-20.5\" y=\"128\" font-size=\"7\" text-anchor=\"middle\">1</text>\n",
       "<path d=\"M-12.5,175 L10.5,175\" stroke=\"darkred\" stroke-width=\"3\" fill=\"none\" />\n",
       "<path d=\"M-30.5,175 C-30.5,175,-30.5,165,-20.5,165 L-12.5,165 L-12.5,185 L-20.5,185 C-30.5,185,-30.5,175,-30.5,175 L-30.5,175\" stroke-width=\"1\" stroke=\"black\" stroke-linejoin=\"miter\" fill=\"white\" />\n",
       "<text x=\"-20.5\" y=\"178\" font-size=\"7\" text-anchor=\"middle\">0</text>\n",
       "<path d=\"M-2,15 L10,15 L10,85 L-2,85 Z\" stroke=\"black\" fill=\"lightgray\" stroke-linejoin=\"miter\" />\n",
       "<text x=\"-2\" y=\"91\" font-size=\"6\" text-anchor=\"start\" font-style=\"italic\">[q[0]]</text>\n",
       "<path d=\"M-2,115 L10,115 L10,185 L-2,185 Z\" stroke=\"black\" fill=\"lightgray\" stroke-linejoin=\"miter\" />\n",
       "<text x=\"-2\" y=\"191\" font-size=\"6\" text-anchor=\"start\" font-style=\"italic\">[q[1]]</text>\n",
       "<path d=\"M107,225 C107,225,107,215,117,215 L125,215 L125,235 L117,235 C107,235,107,225,107,225 L107,225\" stroke-width=\"1\" stroke=\"black\" stroke-linejoin=\"miter\" fill=\"white\" />\n",
       "<text x=\"113\" y=\"241\" font-size=\"6\" text-anchor=\"middle\" font-style=\"italic\">[herald2]</text>\n",
       "<text x=\"117\" y=\"228\" font-size=\"7\" text-anchor=\"middle\">1</text>\n",
       "<path d=\"M107,275 C107,275,107,265,117,265 L125,265 L125,285 L117,285 C107,285,107,275,107,275 L107,275\" stroke-width=\"1\" stroke=\"black\" stroke-linejoin=\"miter\" fill=\"white\" />\n",
       "<text x=\"113\" y=\"291\" font-size=\"6\" text-anchor=\"middle\" font-style=\"italic\">[herald3]</text>\n",
       "<text x=\"117\" y=\"278\" font-size=\"7\" text-anchor=\"middle\">1</text>\n",
       "<path d=\"M240,15 L252,15 L252,85 L240,85 Z\" stroke=\"black\" fill=\"lightgray\" stroke-linejoin=\"miter\" />\n",
       "<text x=\"252\" y=\"91\" font-size=\"6\" text-anchor=\"end\" font-style=\"italic\">[q[0]]</text>\n",
       "<path d=\"M240,115 L252,115 L252,185 L240,185 Z\" stroke=\"black\" fill=\"lightgray\" stroke-linejoin=\"miter\" />\n",
       "<text x=\"252\" y=\"191\" font-size=\"6\" text-anchor=\"end\" font-style=\"italic\">[q[1]]</text>\n",
       "<path d=\"M233,235 L225,235 L225,215 L233,215 C233,215,243,215,243,225 C243,235,233,235,233,235 L233,235\" stroke-width=\"1\" stroke=\"black\" stroke-linejoin=\"miter\" fill=\"white\" />\n",
       "<text x=\"238\" y=\"211\" font-size=\"6\" text-anchor=\"middle\" font-style=\"italic\">[herald0]</text>\n",
       "<text x=\"233\" y=\"228\" font-size=\"7\" text-anchor=\"middle\">1</text>\n",
       "<path d=\"M233,285 L225,285 L225,265 L233,265 C233,265,243,265,243,275 C243,285,233,285,233,285 L233,285\" stroke-width=\"1\" stroke=\"black\" stroke-linejoin=\"miter\" fill=\"white\" />\n",
       "<text x=\"238\" y=\"261\" font-size=\"6\" text-anchor=\"middle\" font-style=\"italic\">[herald1]</text>\n",
       "<text x=\"233\" y=\"278\" font-size=\"7\" text-anchor=\"middle\">1</text>\n",
       "<text x=\"250\" y=\"28.0\" font-size=\"7\" text-anchor=\"end\">0</text>\n",
       "<text x=\"250\" y=\"78.0\" font-size=\"7\" text-anchor=\"end\">1</text>\n",
       "<text x=\"250\" y=\"128.0\" font-size=\"7\" text-anchor=\"end\">2</text>\n",
       "<text x=\"250\" y=\"178.0\" font-size=\"7\" text-anchor=\"end\">3</text>\n",
       "<text x=\"0\" y=\"28.0\" font-size=\"7\" text-anchor=\"start\">0</text>\n",
       "<text x=\"0\" y=\"78.0\" font-size=\"7\" text-anchor=\"start\">1</text>\n",
       "<text x=\"0\" y=\"128.0\" font-size=\"7\" text-anchor=\"start\">2</text>\n",
       "<text x=\"0\" y=\"178.0\" font-size=\"7\" text-anchor=\"start\">3</text>\n",
       "</svg>"
      ],
      "text/plain": [
       "<drawsvg.drawing.Drawing at 0x1b7bf2589d0>"
      ]
     },
     "execution_count": 4,
     "metadata": {},
     "output_type": "execute_result"
    }
   ],
   "source": [
    "r = perceval_processor.probs()['results']\n",
    "print('results:', r)\n",
    "pdisplay(perceval_processor)"
   ]
  },
  {
   "cell_type": "markdown",
   "id": "c0a96be6ff24a6b",
   "metadata": {},
   "source": [
    "The 1.0 version of cQASM is also supported, as shown in the example below.\n"
   ]
  },
  {
   "cell_type": "code",
   "execution_count": 5,
   "id": "a4978c2b86d27241",
   "metadata": {},
   "outputs": [],
   "source": [
    "# version 1.0\n",
    "cqasm_program = f\"\"\"\n",
    "version 1.0\n",
    "\n",
    "# a basic cQASM example\n",
    "qubits 2\n",
    "\n",
    ".prepare\n",
    "prep_z q[0:1]\n",
    "\n",
    ".entangle\n",
    "H q[0]\n",
    "CNOT q[0], q[1]\n",
    "\n",
    ".measurement\n",
    "measure_all\n",
    "\"\"\""
   ]
  },
  {
   "cell_type": "code",
   "execution_count": 6,
   "id": "dba923f2114d77d0",
   "metadata": {},
   "outputs": [
    {
     "name": "stdout",
     "output_type": "stream",
     "text": [
      "results: {\n",
      "\t|1,0,1,0>: 0.5000000000000002\n",
      "\t|0,1,0,1>: 0.4999999999999999\n",
      "}\n"
     ]
    },
    {
     "data": {
      "image/svg+xml": [
       "<?xml version=\"1.0\" encoding=\"UTF-8\"?>\n",
       "<svg xmlns=\"http://www.w3.org/2000/svg\" xmlns:xlink=\"http://www.w3.org/1999/xlink\"\n",
       "     width=\"446.875\" height=\"406.25\" viewBox=\"-62.5 0 357.5 325.0\">\n",
       "<defs>\n",
       "</defs>\n",
       "<path d=\"M10,25.0 L25,25.0\" stroke-width=\"3\" stroke=\"darkred\" stroke-linejoin=\"miter\" fill=\"none\" />\n",
       "<path d=\"M10,75.0 L25,75.0\" stroke-width=\"3\" stroke=\"darkred\" stroke-linejoin=\"miter\" fill=\"none\" />\n",
       "<path d=\"M10,125.0 L25,125.0\" stroke-width=\"3\" stroke=\"darkred\" stroke-linejoin=\"miter\" fill=\"none\" />\n",
       "<path d=\"M10,175.0 L25,175.0\" stroke-width=\"3\" stroke=\"darkred\" stroke-linejoin=\"miter\" fill=\"none\" />\n",
       "<path d=\"M25,25 L125,25\" stroke=\"darkred\" stroke-width=\"3\" fill=\"none\" />\n",
       "<path d=\"M25,75 L125,75\" stroke=\"darkred\" stroke-width=\"3\" fill=\"none\" />\n",
       "<path d=\"M27.5,2.5 L122.5,2.5 L122.5,97.5 L27.5,97.5 Z\" stroke=\"darkred\" fill=\"lightpink\" stroke-linejoin=\"miter\" />\n",
       "<text x=\"35\" y=\"16\" font-size=\"8\" text-anchor=\"start\" font-weight=\"bold\">H</text>\n",
       "<path d=\"M25,125.0 L125,125.0\" stroke=\"darkred\" stroke-width=\"3\" fill=\"none\" />\n",
       "<path d=\"M25,175.0 L125,175.0\" stroke=\"darkred\" stroke-width=\"3\" fill=\"none\" />\n",
       "<path d=\"M125,25 L225,25\" stroke=\"darkred\" stroke-width=\"3\" fill=\"none\" />\n",
       "<path d=\"M125,75 L225,75\" stroke=\"darkred\" stroke-width=\"3\" fill=\"none\" />\n",
       "<path d=\"M125,125 L225,125\" stroke=\"darkred\" stroke-width=\"3\" fill=\"none\" />\n",
       "<path d=\"M125,175 L225,175\" stroke=\"darkred\" stroke-width=\"3\" fill=\"none\" />\n",
       "<path d=\"M125,225 L225,225\" stroke=\"darkred\" stroke-width=\"3\" fill=\"none\" />\n",
       "<path d=\"M125,275 L225,275\" stroke=\"darkred\" stroke-width=\"3\" fill=\"none\" />\n",
       "<path d=\"M127.5,2.5 L222.5,2.5 L222.5,297.5 L127.5,297.5 Z\" stroke=\"darkred\" fill=\"lightpink\" stroke-linejoin=\"miter\" />\n",
       "<text x=\"135\" y=\"16\" font-size=\"9\" text-anchor=\"start\" font-weight=\"bold\">HERALDED CNOT</text>\n",
       "<path d=\"M225,25.0 L240,25.0\" stroke-width=\"3\" stroke=\"darkred\" stroke-linejoin=\"miter\" fill=\"none\" />\n",
       "<path d=\"M225,75.0 L240,75.0\" stroke-width=\"3\" stroke=\"darkred\" stroke-linejoin=\"miter\" fill=\"none\" />\n",
       "<path d=\"M225,125.0 L240,125.0\" stroke-width=\"3\" stroke=\"darkred\" stroke-linejoin=\"miter\" fill=\"none\" />\n",
       "<path d=\"M225,175.0 L240,175.0\" stroke-width=\"3\" stroke=\"darkred\" stroke-linejoin=\"miter\" fill=\"none\" />\n",
       "<path d=\"M-12.5,25 L10.5,25\" stroke=\"darkred\" stroke-width=\"3\" fill=\"none\" />\n",
       "<path d=\"M-30.5,25 C-30.5,25,-30.5,15,-20.5,15 L-12.5,15 L-12.5,35 L-20.5,35 C-30.5,35,-30.5,25,-30.5,25 L-30.5,25\" stroke-width=\"1\" stroke=\"black\" stroke-linejoin=\"miter\" fill=\"white\" />\n",
       "<text x=\"-20.5\" y=\"28\" font-size=\"7\" text-anchor=\"middle\">1</text>\n",
       "<path d=\"M-12.5,75 L10.5,75\" stroke=\"darkred\" stroke-width=\"3\" fill=\"none\" />\n",
       "<path d=\"M-30.5,75 C-30.5,75,-30.5,65,-20.5,65 L-12.5,65 L-12.5,85 L-20.5,85 C-30.5,85,-30.5,75,-30.5,75 L-30.5,75\" stroke-width=\"1\" stroke=\"black\" stroke-linejoin=\"miter\" fill=\"white\" />\n",
       "<text x=\"-20.5\" y=\"78\" font-size=\"7\" text-anchor=\"middle\">0</text>\n",
       "<path d=\"M-12.5,125 L10.5,125\" stroke=\"darkred\" stroke-width=\"3\" fill=\"none\" />\n",
       "<path d=\"M-30.5,125 C-30.5,125,-30.5,115,-20.5,115 L-12.5,115 L-12.5,135 L-20.5,135 C-30.5,135,-30.5,125,-30.5,125 L-30.5,125\" stroke-width=\"1\" stroke=\"black\" stroke-linejoin=\"miter\" fill=\"white\" />\n",
       "<text x=\"-20.5\" y=\"128\" font-size=\"7\" text-anchor=\"middle\">1</text>\n",
       "<path d=\"M-12.5,175 L10.5,175\" stroke=\"darkred\" stroke-width=\"3\" fill=\"none\" />\n",
       "<path d=\"M-30.5,175 C-30.5,175,-30.5,165,-20.5,165 L-12.5,165 L-12.5,185 L-20.5,185 C-30.5,185,-30.5,175,-30.5,175 L-30.5,175\" stroke-width=\"1\" stroke=\"black\" stroke-linejoin=\"miter\" fill=\"white\" />\n",
       "<text x=\"-20.5\" y=\"178\" font-size=\"7\" text-anchor=\"middle\">0</text>\n",
       "<path d=\"M-2,15 L10,15 L10,85 L-2,85 Z\" stroke=\"black\" fill=\"lightgray\" stroke-linejoin=\"miter\" />\n",
       "<text x=\"-2\" y=\"91\" font-size=\"6\" text-anchor=\"start\" font-style=\"italic\">[q[0]]</text>\n",
       "<path d=\"M-2,115 L10,115 L10,185 L-2,185 Z\" stroke=\"black\" fill=\"lightgray\" stroke-linejoin=\"miter\" />\n",
       "<text x=\"-2\" y=\"191\" font-size=\"6\" text-anchor=\"start\" font-style=\"italic\">[q[1]]</text>\n",
       "<path d=\"M107,225 C107,225,107,215,117,215 L125,215 L125,235 L117,235 C107,235,107,225,107,225 L107,225\" stroke-width=\"1\" stroke=\"black\" stroke-linejoin=\"miter\" fill=\"white\" />\n",
       "<text x=\"113\" y=\"241\" font-size=\"6\" text-anchor=\"middle\" font-style=\"italic\">[herald2]</text>\n",
       "<text x=\"117\" y=\"228\" font-size=\"7\" text-anchor=\"middle\">1</text>\n",
       "<path d=\"M107,275 C107,275,107,265,117,265 L125,265 L125,285 L117,285 C107,285,107,275,107,275 L107,275\" stroke-width=\"1\" stroke=\"black\" stroke-linejoin=\"miter\" fill=\"white\" />\n",
       "<text x=\"113\" y=\"291\" font-size=\"6\" text-anchor=\"middle\" font-style=\"italic\">[herald3]</text>\n",
       "<text x=\"117\" y=\"278\" font-size=\"7\" text-anchor=\"middle\">1</text>\n",
       "<path d=\"M240,15 L252,15 L252,85 L240,85 Z\" stroke=\"black\" fill=\"lightgray\" stroke-linejoin=\"miter\" />\n",
       "<text x=\"252\" y=\"91\" font-size=\"6\" text-anchor=\"end\" font-style=\"italic\">[q[0]]</text>\n",
       "<path d=\"M240,115 L252,115 L252,185 L240,185 Z\" stroke=\"black\" fill=\"lightgray\" stroke-linejoin=\"miter\" />\n",
       "<text x=\"252\" y=\"191\" font-size=\"6\" text-anchor=\"end\" font-style=\"italic\">[q[1]]</text>\n",
       "<path d=\"M233,235 L225,235 L225,215 L233,215 C233,215,243,215,243,225 C243,235,233,235,233,235 L233,235\" stroke-width=\"1\" stroke=\"black\" stroke-linejoin=\"miter\" fill=\"white\" />\n",
       "<text x=\"238\" y=\"211\" font-size=\"6\" text-anchor=\"middle\" font-style=\"italic\">[herald0]</text>\n",
       "<text x=\"233\" y=\"228\" font-size=\"7\" text-anchor=\"middle\">1</text>\n",
       "<path d=\"M233,285 L225,285 L225,265 L233,265 C233,265,243,265,243,275 C243,285,233,285,233,285 L233,285\" stroke-width=\"1\" stroke=\"black\" stroke-linejoin=\"miter\" fill=\"white\" />\n",
       "<text x=\"238\" y=\"261\" font-size=\"6\" text-anchor=\"middle\" font-style=\"italic\">[herald1]</text>\n",
       "<text x=\"233\" y=\"278\" font-size=\"7\" text-anchor=\"middle\">1</text>\n",
       "<text x=\"250\" y=\"28.0\" font-size=\"7\" text-anchor=\"end\">0</text>\n",
       "<text x=\"250\" y=\"78.0\" font-size=\"7\" text-anchor=\"end\">1</text>\n",
       "<text x=\"250\" y=\"128.0\" font-size=\"7\" text-anchor=\"end\">2</text>\n",
       "<text x=\"250\" y=\"178.0\" font-size=\"7\" text-anchor=\"end\">3</text>\n",
       "<text x=\"0\" y=\"28.0\" font-size=\"7\" text-anchor=\"start\">0</text>\n",
       "<text x=\"0\" y=\"78.0\" font-size=\"7\" text-anchor=\"start\">1</text>\n",
       "<text x=\"0\" y=\"128.0\" font-size=\"7\" text-anchor=\"start\">2</text>\n",
       "<text x=\"0\" y=\"178.0\" font-size=\"7\" text-anchor=\"start\">3</text>\n",
       "</svg>"
      ],
      "text/plain": [
       "<drawsvg.drawing.Drawing at 0x1b7bf2994d0>"
      ]
     },
     "execution_count": 6,
     "metadata": {},
     "output_type": "execute_result"
    }
   ],
   "source": [
    "perceval_processor = CQASMConverter().convert(cqasm_program, use_postselection=False)\n",
    "\n",
    "r = perceval_processor.probs()['results']\n",
    "print('results:', r)\n",
    "pdisplay(perceval_processor)"
   ]
  },
  {
   "cell_type": "markdown",
   "id": "ece911ebed01fbc8",
   "metadata": {},
   "source": [
    "The cQASM program can also be retrieved from a file by using `CQASMConverter().convert(path_to_cqasm_program)`."
   ]
  }
 ],
 "metadata": {
  "language_info": {
   "name": "python"
  }
 },
 "nbformat": 4,
 "nbformat_minor": 5
}
